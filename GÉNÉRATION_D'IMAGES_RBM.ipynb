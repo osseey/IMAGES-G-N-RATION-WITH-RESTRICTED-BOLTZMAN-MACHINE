{
  "nbformat": 4,
  "nbformat_minor": 0,
  "metadata": {
    "colab": {
      "provenance": []
    },
    "kernelspec": {
      "name": "python3",
      "display_name": "Python 3"
    },
    "language_info": {
      "name": "python"
    }
  },
  "cells": [
    {
      "cell_type": "markdown",
      "source": [
        "MS INTELLIGENCE ARTIFICIELLE \n",
        "\n",
        "2022-2023\n",
        "\n",
        "TÉLÉCOM PARIS\n",
        "\n",
        "                                                                    YIBOE Ossee"
      ],
      "metadata": {
        "id": "8E4WNrZliITx"
      }
    },
    {
      "cell_type": "markdown",
      "source": [
        "\n",
        "## **Thème : Apprentisage des modèles à énergie - Machine de Boltzman restreintre**"
      ],
      "metadata": {
        "id": "KwG6mTyvJcCi"
      }
    },
    {
      "cell_type": "markdown",
      "source": [
        "## Objectifs :\n",
        "\n",
        "- Restitution au propre et avec commentaires et interprétations de ce que nous avons fait en cours: d'abord sur les modèles à énergie, puis sur l'utilisation du RBM.\n",
        "\n",
        "- Concernant les attentes pour le code, il est souhaitable d'utiliser le code pour étudier l'impact des différents paramètres sur l'entrainements et la qualité des images reconstruites. \n",
        "\n",
        "- Mais de base il est déjà priortaire d'avoir un code fonctionnel qui permet d'instancier un objet de type RBM, d'entraîner par batch sur les données MNIST binarisées, et enfin après l'entrainement d'échantillonner le modèle de RBM pour obtenir de nouvelles images MNIST."
      ],
      "metadata": {
        "id": "lTaBhg4rJvQ8"
      }
    },
    {
      "cell_type": "markdown",
      "source": [
        "## Présentation des modèles à énergie et Particuliarités\n",
        "\n",
        "On considère un processus d'intéret observable $X=(X_s)_{s \\in S} $ et un processus $Y=(Y_s)_{s \\in S} $ inobservable.\n",
        "\n",
        "Chaque $X_s$ est à valeurs dans $\\Omega=\\{1,...,K\\}$ et chaque $Y_s$ à valeurs finies ou continues. La loi du couple $(X,Y)$ est de la forme :\n",
        "\n",
        "$$\n",
        "\\mathbb{P}_{\\theta}(x,y) = \\frac{e^{-E_{\\theta}(x,y)}}{Z_{\\theta}}\n",
        "$$\n",
        "\n",
        "La quantité $E_{\\theta}(x)$ est appelée « énergie » et on appelle modèle à énergie tout modèle vérifiant :  $$ P_{\\theta}(x,y) > 0 $$ pour tout x , y.\n",
        "\n",
        "La dite fonction à énergie, est telle que:\n",
        "\n",
        "$$\n",
        "E_{\\theta}(x) = 0 \\space (good) \\\\\n",
        "E_{\\theta}(x) > 0 \\space (bad)\n",
        "$$\n",
        "\n",
        "Soit $ E_{\\theta}(x) $ une fonction d'énergie.\n",
        "\n",
        " Ainsi, nous pourrons définir $ \\mathbb{P}_{\\theta}(x) $ suivant une loi de probabilité à l'aide de la fonction suivante :\n",
        "\n",
        "$$\n",
        "\\mathbb{P}_{\\theta}(x) = \\frac{e^{-E_{\\theta}(x)}}{Z_{\\theta}} = \\frac{e^{-E_{\\theta}(x)}}{\\int e^{-E_{\\theta}(x)}dx} \\space , \\space\\space\\space Z_{\\theta} = \\int e^{-E_{\\theta}(x)}dx\n",
        "$$\n",
        "\n",
        "Où $ Z\\theta $ est une constante de normalisation pour que $ \\mathbb{P}_{\\theta}(x) $ suive une loi de probabilité. \n",
        "\n",
        "La fonction Softmax nous permet de normaliser les valeurs entre $ [0,1] $ et construire une distribution de probabilité.\n",
        "\n",
        "\n",
        "\n",
        "## Gradient stochastique\n",
        "\n",
        "Soit un ensemble de $ N $ observations $ \\mathcal{D} $ indépendantes et identiquement distribuées $x_i$.\n",
        "\n",
        "Supposons que $X=(X_s)_{s \\in S}$ est observable, avec\n",
        "\n",
        "\n",
        "Dans les modèles d'intéret précisés ultérieurement l'énergie $ E_{\\theta}(x) $ est calculable et $Z_{\\theta}$ ne l'est pas.\n",
        "\n",
        "Le problème vient du fait que le nombre de réalisations possibles de $x$, est trop grand pour que la somme $\\sum_{i=1}^N -E_{\\theta}(x)$ puisse etre calculée.\n",
        "\n",
        "\n",
        "L'objectif général est d'estimer les paramètres (poids et biais) à partir des données observables.\n",
        "\n",
        "On cherche donc à estimer le paramètre $ \\theta $ à partir de $x$ par la méthode du maximum de vraisemblance. \n",
        "\n",
        "Cela revient , à $x$ donné, à rechercher le maximum de : \n",
        "\n",
        "$${f_\\theta}=log\\mathbb{P}_{\\theta}(x) $$\n",
        "ou à minimiser :\n",
        "$${f_\\theta}=-log\\mathbb{P}_{\\theta}(x) $$.\n",
        "\n",
        "Soit :\n",
        "$$\n",
        "\\sum_{i=1}^N \\log\\mathbb{P}_{\\theta}(x_i)\n",
        "$$\n",
        "\n",
        "\n",
        "On note $f'(\\theta^q)$, le gradient de $f(\\theta^q)$ (à $x$ fixé).\n",
        "\n",
        "L'algorithme du gradient est une méthode itérative produisant une suite $\\theta_0$,...,$\\theta_q$, ... selon le principe suivant :\n",
        "\n",
        "- $(i)$ on se donne $\\theta_0$ \n",
        "\n",
        "- $(ii)$ on se donne « un pas » ${\\Delta}{\\theta}$. Alors \n",
        "$$\n",
        "{\\theta}^{q+1} \\space=\\space \\theta^q\\space\\space +\\space \\Delta\\theta \\space f'(\\theta^q)\n",
        "$$\n",
        "\n",
        "Le problème est alors double:\n",
        "- le pas ${\\Delta}{\\theta}$ doit etre bien choisi;\n",
        "- la suite $\\theta_0$,...,$\\theta_q$, ...  peut etre piégée dans un maximum local.\n",
        "\n",
        "- L'idée du gradient stochastique est de remédier au deuxième point en permettant l'évolution de chaque ${\\theta}^{q+1}$ dans un sens différent de celui de $f'(\\theta^q)$.\n",
        "\n",
        "\n",
        "Notons que l'utilisation du logarithme népérien nous permet ici d'éviter d'obtenir des probabilités qui tombent à zéro.\n",
        "\n",
        "L'expression de  $ \\mathbb{P}_{\\theta}(x) $ devient :\n",
        "\n",
        "$$\n",
        "\\log \\mathbb{P}_{\\theta}(x) = \\log(e^{-E_{\\theta}(x)}) \\log(\\frac{1}{\\int e^{-E_{\\theta}(x)}dx}) \\space , \\space\\space\\space \\log(\\frac{1}{x}) = - \\log(x)\n",
        "$$\n",
        "\n",
        "$$\n",
        "\\log \\mathbb{P}_{\\theta}(x) = -E_{\\theta}(x) -\\log(\\int e^{-E_{\\theta}(x)}dx)\n",
        "$$\n",
        "$$\n",
        "\\log \\mathbb{P}_{\\theta}(x) = -E_{\\theta}(x) -\\log(Z_{\\theta})\n",
        "$$\n",
        "\n",
        "\n",
        "\n",
        "$Z_{\\theta}$ étant inconnue on utilise la méthode du Gradient stochastique et on obtient :\n",
        "\n",
        "$$\n",
        "\\nabla_{\\theta} \\log\\mathbb{P}_{\\theta}(x) = -\\nabla_{\\theta}E_{\\theta}(x) -\\frac{\\nabla_{\\theta}Z_{\\theta}}{Z_{\\theta}}\n",
        "$$\n",
        "\n",
        "$$\n",
        "\\nabla_{\\theta} \\log\\mathbb{P}({\\mathcal{D}|\\theta})) = \\sum_{i=1}^N \\nabla_{\\theta} \\log\\mathbb{P}_{\\theta}(x_i)\n",
        "$$\n",
        "\n",
        "Or : \n",
        "$$ \n",
        "\\log\\mathbb{P}_{\\theta}(x) = -E_{\\theta}(x) - \\log Z_{\\theta} \n",
        "$$ \n",
        "et \n",
        "$$ \n",
        "\\nabla_{\\theta} \\log f_{\\theta} = \\frac{1}{f_{\\theta}} \\nabla_{\\theta} f_{\\theta} \n",
        "$$\n",
        "    \n",
        "On obtient par la suite :\n",
        "\n",
        "$$\n",
        "\\nabla_{\\theta} \\log\\mathbb{P}_{\\theta}(x) = -\\nabla_{\\theta}E_{\\theta}(x) -\\frac{\\nabla_{\\theta}Z_{\\theta}}{Z_{\\theta}}\n",
        "$$\n",
        "\n",
        "$$\n",
        "\\nabla_{\\theta} \\log\\mathbb{P}_{\\theta}(x) = -\\nabla_{\\theta}E_{\\theta}(x) -\\frac{\\int \\nabla_{\\theta}e^{-E_{\\theta}(x)}dx}{Z_{\\theta}}\n",
        "$$\n",
        "\n",
        "$$\n",
        "\\nabla_{\\theta} \\log\\mathbb{P}_{\\theta}(x) = -\\nabla_{\\theta}E_{\\theta}(x) +\\int \\nabla_{\\theta}E_{\\theta}(x) \\frac{e^{-E_{\\theta}(x)}}{Z_{\\theta}}dx \\space , \\space\\space\\space \\frac{e^{-E_{\\theta}(x)}}{Z_{\\theta}} = \\mathbb{P}_{\\theta}(x) \n",
        "$$\n",
        "\n",
        "$$\n",
        "\\nabla_{\\theta} \\log\\mathbb{P}_{\\theta}(x) = -\\nabla_{\\theta}E_{\\theta}(x) + \\mathbb{E}_{\\mathbb{P}_{\\theta}}(\\nabla_{\\theta}E_{\\theta}(x))\n",
        "$$\n",
        "\n",
        "D'ou l'expression suivante de calcul du gradient stochastique:\n",
        "\n",
        "$$\n",
        "\\nabla_{\\theta} \\log\\mathbb{P}({\\mathcal{D}|\\theta})) = \\sum_{i=1}^N \\nabla_{\\theta} \\log\\mathbb{P}_{\\theta}(x_i) = \\sum_{i=1}^N -\\nabla_{\\theta}E_{\\theta}(x_i) + N \\mathbb{E}_{\\mathbb{P}_{\\theta}}(\\nabla_{\\theta}E_{\\theta}(x))\n",
        "$$\n",
        "\n"
      ],
      "metadata": {
        "id": "K7qZhaR8JvVh"
      }
    },
    {
      "cell_type": "markdown",
      "source": [
        "## Les Machines de Boltzmann Restreinte (MBR)\n",
        "\n",
        "\n",
        "Pour des raisons historiques, on appellera dans la suite les variables cachées $H$ (de « hidden » en anglais) et les variables observées V (de « visible »).\n",
        "\n",
        "Une machine de Boltzman restreinte est un modèle à énergie avec une matrice de poids $S= I*J$, $H=(H_i)_{i \\in I}$,$V=(V_J)_{j \\in J}$, les $(H_i)$, $(V_i)$ étant à valeurs respectivement dans des ensembles finis $H$, $V$.\n",
        "\n",
        "La machine de Boltzman, dans sa forme originale, est un réseau de neurones qui possède la particularité de connecter l’ensemble des neurones entre eux. Il s’agit d’un réseau à usage principalement théorique, du fait que l’information y est distribuée de façon parallèle et pour sa proximité avec les concepts du connexionnisme. Dans sa version dite « restreinte » (qui possède quant à elle un certain nombre d’applications pratiques), on trouve un système fait uniquement de deux couches : une couche avec des neurones en entrée, et une couche avec des neurones cachés. L’ensemble de ces neurones sont interconnectés entre eux. De façon assez similaire aux réseaux autoencoders, la couche cachée comporte souvent moins de dimensions que la couche visible (bien que ce ne soit pas toujours le cas). Pour illustrer le concept, voici un schéma d’une machine de Boltzmann restreinte :\n",
        "\n",
        "![](https://drive.google.com/uc?export=view&id=1QpsevABbqlzp0wp_IayFFj6yjU1WsSvC)\n",
        "\n",
        "On dit donc d'une machine de Boltzmann qu'elle est restreinte, lorsqu'il n'existe aucun lien direct entre les noeuds de la couche visible et entre les noeuds de la couche cachée ( Confère l'image ci-dessus). \n",
        "\n",
        "\n",
        "\n",
        "Ici, notre fonction d'énergie est définit de la manière suivante :\n",
        "$$\n",
        "E_{\\theta}(v,h) = -h^TWv -a^Tv -b^Th \\mathbb{P}_{\\theta}(v,h) = \\frac{e^{-E_{\\theta}(v,h)})}{Z\\theta}\n",
        "$$\n",
        "\n",
        "Pour appliquer le gradient stochastique on doit calculer-ou approcher- $E_{\\theta}(H,V)$ et $E_{\\theta}(H,v/v)$.\n",
        "\n",
        "Le premier utilise une approximation stochastique , alors que le deuxième se calcule de manière exacte.\n",
        "\n",
        "En effet, la propriété intéressante des MBR est que les variables $H=(H_i)_{i \\in I}$ sont indépendantes conditionnellement à $V=v$ et les variables $V=(V_J)_{j \\in J}$ sont indépendantes conditionnellemnt à $H=h$\n",
        "\n",
        "Les lois de $H_i$ conditionnelles à $V=v=(v_j)_{j \\in J}$ sont calculables.\n",
        "\n",
        "- Ayant un $v$ il nous est possible d'échantilloner $h$ (Ayant un vecteur visible, comment peut-on échantilloner les vecteurs cachés conditionnels ?)\n",
        "\n",
        "$$\n",
        "p(h \\space | \\space v) = \\frac{p(h \\cap v)}{p(v)} = \\frac{\\frac{e^{-E_{\\theta}(v,h)}}{Z_\\theta}}{\\frac{\\displaystyle \\sum_{h'\\in\\{0,1\\}} e^{-E_{\\theta}(v,h')}}{Z_\\theta}} \\space = \\frac{e^{-E_{\\theta}(v,h)}}{\\displaystyle \\sum_{h'\\in\\{0,1\\}} e^{-E_{\\theta}(v,h')}} \\\\\n",
        "$$\n",
        "\n",
        "$$\n",
        "= \\frac{e^{-(- a^Tv - b^Th - v^TWh)}}{\\displaystyle \\sum_{h' \\in \\{0,1\\}} e^{-(- a^Tv - b^Th' - v^TWh)}}\n",
        "$$\n",
        "\n",
        "$$\n",
        "= \\frac{e^{a^Tv}e^{b^Th + v^TWh}}{e^{a^Tv} \\displaystyle \\sum_{h' \\in \\{0,1\\}^p} e^{b^Th' + v^TWh'}}\n",
        "$$\n",
        "\n",
        "$$\n",
        "= \\frac{e^{a^Tv}e^{b^Th + v^TWh}}{e^{a^Tv} \\displaystyle \\sum_{h' \\in \\{0,1\\}^p} e^{b^Th' + v^TWh'}}\n",
        "$$\n",
        "\n",
        "$$\n",
        "= \\frac{\\displaystyle \\prod_{j = 1}^p e^{h_jw_jv \\space + \\space b_jh_j}}{\\displaystyle \\sum_{h' \\in \\{0,1\\}^p} \\prod_{j = 1}^p e^{h'_jw_j \\space + \\space b_jh'_j}}, \\space\\space\\space v^Twh + b^Th = \\sum_{j = 1}^p h_jw_jv +b_jh_j\n",
        "$$\n",
        "\n",
        "$$\n",
        "= \\frac{\\displaystyle \\prod_{j = 1}^p e^{h_jw_jv \\space + \\space b_jh_j}}{\\displaystyle \\prod_{j = 1}^p \\sum_{h' \\in \\{0,1\\}^p} e^{h'_jw_j \\space + \\space b_jh'_j}}\n",
        "$$\n",
        "\n",
        "$$\n",
        "= \\prod_{j = 1}^p \\space \\frac{e^{h_jw_jv \\space + \\space b_jh_j}}{1 \\space + \\space e^{w_jv \\space + \\space b_j}} = \\prod_{j = 1}^p p(h_j \\space | \\space v)\n",
        "$$\n",
        "\n",
        "Pour résoudre ce problème, on doit se demander quelle est la probabilité qu'un seul des éléments du vecteur des unités cachées soit égal à 1, ayant le vecteur d'unité visibles complet ?\n",
        "\n",
        "On peut donc déduire à l'aide du calcul fait précédemment que :\n",
        "\n",
        "$$\n",
        "p(h_j \\space = \\space 1 \\space | \\space v) = \\frac{1}{1 + e^{-w_jv - b_j}} = sigmoid(w_jv \\space + \\space b_j)\n",
        "$$\n",
        "\n",
        "De ce fait, on peut déduire qu'ayant $v$ on peut retirer des échantillons conditionnellement indépendants de $h$\n",
        "\n",
        "De façon similaire, on peut déduire les expressions de $p(v \\space | \\space h)$ et $p(v_i \\space = \\space 1 \\space | \\space h)$ :\n",
        "\n",
        "$$\n",
        "p(v \\space | \\space h) = \\prod_{i = 1}^d p(v_i \\space | \\space h)\n",
        "$$\n",
        "\n",
        "$$\n",
        "p(v_i \\space = \\space 1 \\space | \\space h) = sigmoid(w_ih \\space + \\space a_i)\n",
        "$$\n",
        "\n",
        "Ayant un $h$, il nous est donc possible d'échantilloner les valeurs conditionnelles des unités visibles.\n",
        "\n",
        "\n",
        "\n",
        "Par la suite les lois $ \\mathbb{P}(h|v) $ et $ \\mathbb{P}(v|h) $ sont donc définies comme suit :\n",
        "\n",
        "$$\n",
        "\\mathbb{P}(h|v) = \\prod_{j=1}^p \\mathbb{P}(h_j|v) \\space , \\space\\space\\space \\mathbb{P}(h_j|v) = sigmoide(b_j + W_jv)\n",
        "$$\n",
        "\n",
        "$$\n",
        "\\mathbb{P}(v|h) = \\prod_{i=1}^d \\mathbb{P}(v_i|h) \\space , \\space\\space\\space \\mathbb{P}(v_i|h) = sigmoide(a_i + h^TW_i)\n",
        "$$\n",
        "\n",
        "\n",
        "\n",
        "L'expression de  $ \\mathbb{P_\\theta}(v) $ devient :\n",
        "\n",
        "$$\n",
        "\\mathbb{P_\\theta}(v) = \\int_h \\mathbb{P_\\theta}(v,h)dh = \\sum_{h'\\in\\{0,1\\}} \\mathbb{P_\\theta}(v,h')\n",
        "$$\n",
        "\n",
        "$$\n",
        "\\mathbb{P_\\theta}(v) = \\frac{\\sum_{h'\\in\\{0,1\\}} e^{-E_{\\theta}(v,h')}}{Z\\theta} \\space , \\space\\space\\space E_{\\theta}(v,h) = -h^TWv -a^Tv -b^Th \n",
        "$$\n",
        "\n",
        "$$\n",
        "\\mathbb{P_\\theta}(v) = \\frac{\\sum_{h'\\in\\{0,1\\}} e^{-(-h'^TWv - a^Tv - b^Th')}}{Z\\theta}\n",
        "$$\n",
        "\n",
        "$$\n",
        "\\mathbb{P_\\theta}(v) = \\frac{\\sum_{h'\\in\\{0,1\\}} e^{(h'^TWv + a^Tv + b^Th')}}{Z\\theta}\n",
        "$$\n",
        "\n",
        "$$\n",
        "\\mathbb{P_\\theta}(v) = \\frac{e^{a^Tv} \\sum_{h'\\in\\{0,1\\}} e^{(h'^TWv + b^Th')}}{Z\\theta}\n",
        "$$\n",
        "\n",
        "$$\n",
        "\\mathbb{P_\\theta}(v) = \\frac{e^{a^Tv} e^{\\sum_{j=1}^p \\log(1+e^{(W_j v + b_j)}}}{Z\\theta}\n",
        "$$\n",
        "\n",
        "\n",
        "On constate que cette formule est sous une forme similaire à celle de définition de base de ${P_\\theta}(v)$ et on déduit de cette expression, une expression de la fonction  $ E_{\\theta}(v) $ :\n",
        "\n",
        "$$\n",
        "E_{\\theta}(v) = -(a^Tv + \\sum_{j=1}^p \\log(1+e^{(W_j v + b_j)}))\n",
        "$$\n",
        "\n",
        "\n",
        "Le problème revient donc à minimiser à partir de l'expression de $E_{\\theta}(v)$ maintenant connue $ - \\log \\mathbb{P}_{\\theta}(\\mathcal{D}) $\n",
        "\n",
        "La simulation directe de réalisations de $(H,V)$ n'est pas possible et on fait à la méthode approximative dite « Échantilloneur de Gibbs », suivante :\n",
        "\n",
        "- (i) on part d'un arbitraire $(H,V)$=$(h^0,v^0)$;\n",
        "- (ii) on passe de $(H^n,V^n)= (h^n,v^n)$ à $(H^{n+1},V^{n+1})= (h^{n+1},v^{n+1})$ en simulant $V^{n+1}$=$v^{n+1}$ selon $\\mathbb{P_\\theta}(v/h^n)$, et $H^{n+1}$=$h^{n+1}$ selon $\\mathbb{P_\\theta}(h/v^{n+1})$;\n",
        "- On arrete après un nombre de simulations N prédéfini.\n",
        "\n",
        "On construit ainsi une chaine de Markov $(H^n,V^n)$ qui converge en loi, sous les bonnes hypothèses, vers sa distribution stationnaire avec vitesse géométrique, cette dernière étant la distribution de $(H,V)$ (la loi $\\mathbb{P_\\theta}(H^n/V^n)$ converge, au sens usuel, vers la loi $\\mathbb{P_\\theta}(H/V)$.\n",
        "\n",
        "En répétant $M$ fois on obtient un estimateur de Gibbs de nos données.\n",
        "\n",
        "\n",
        "$$\n",
        "\\underset{X \\backsim q}{\\mathbb{E}}f(x) = \\int_{x \\in \\Omega} q(x)f(x)dx \\approx \\frac{1}{N} \\underset{X \\backsim q}{\\sum_{i=1}^N f(x_i)}\n",
        "$$\n",
        "\n",
        "L'expression devient $ \\mathbb{E}_{\\mathbb{P}_{\\theta}}(\\nabla_{\\theta}E_{\\theta}(x)) $ de la manière suivante :\n",
        "\n",
        "$$\n",
        "\\mathbb{E}_{x \\backsim \\mathbb{P}_{\\theta}}(\\nabla_{\\theta}E_{\\theta}(x)) \\approx \\frac{1}{M} \\underset{x_i \\backsim \\mathbb{P}_{\\theta}}{\\sum_{i=1}^M \\nabla_{\\theta}E_{\\theta}(x_i)}\n",
        "$$\n",
        "\n",
        "On a par la suite :  $ \\nabla_{\\theta} \\log\\mathbb{P}({\\mathcal{D}|\\theta})) $ :\n",
        "\n",
        "$$\n",
        "\\nabla_{\\theta} \\log\\mathbb{P}({\\mathcal{D}|\\theta})) = - \\underset{x_i \\backsim \\mathcal{D}}{\\sum_{i=1}^N \\nabla_{\\theta}E_{\\theta}(x_i)} + \\frac{N}{M} \\underset{\\tilde{x_i} \\backsim \\mathbb{P}_{\\theta}}{\\sum_{i=1}^M \\nabla_{\\theta}E_{\\theta}(\\tilde{x_i})}\n",
        "$$\n",
        "\n",
        "$$\n",
        "\\nabla_{\\theta} \\log\\mathbb{P}({\\mathcal{D}|\\theta})) = \\nabla_{\\theta} (- \\underset{x_i \\backsim \\mathcal{D}}{\\sum_{i=1}^N E_{\\theta}(x_i)} + \\frac{N}{M} \\underset{\\tilde{x_i} \\backsim \\mathbb{P}_{\\theta}}{\\sum_{i=1}^M E_{\\theta}(\\tilde{x_i})})\n",
        "$$\n",
        "\n",
        "\n",
        "\n",
        "Ainsi, on peut définir notre fonction de minimisation de $ - \\log \\mathbb{P}_{\\theta}(\\mathcal{D}) $ comme étant :\n",
        "\n",
        "$$\n",
        "\\underset{\\theta}{argmin} \\space \\nabla_{\\theta} - \\log \\mathbb{P}_{\\theta}(\\mathcal{D}) = \\nabla_{\\theta} (\\underset{x_i \\backsim \\mathcal{D}}{\\sum_{i=1}^N E_{\\theta}(x_i)} - \\frac{N}{M} \\underset{\\tilde{x_i} \\backsim \\mathbb{P}_{\\theta}}{\\sum_{i=1}^M E_{\\theta}(\\tilde{x_i})})\n",
        "$$\n",
        "\n",
        "\n",
        "On définit notre fonction de Loss de la manière suivante : \n",
        "$$\n",
        "\\mathcal{L}(\\theta) = \\underset{x_i \\backsim \\mathcal{D}}{\\sum_{i=1}^N E_{\\theta}(x_i)} - \\frac{N}{M} \\underset{\\tilde{x_i} \\backsim \\mathbb{P}_{\\theta}}{\\sum_{i=1}^M E_{\\theta}(\\tilde{x_i})}\n",
        "$$\n",
        "\n",
        "Nous verrons par la suite la partie Cas pratique."
      ],
      "metadata": {
        "id": "Z3y0UtqiOCci"
      }
    },
    {
      "cell_type": "markdown",
      "source": [
        "### Cas pratique\n",
        "\n",
        "Nous travaillons à présent avec les données du dataset MNIST pour la génération d'image après apprentissage.\n",
        "\n",
        "####- Instanciation d'une classe rbm et implémentation des fonctions nécessaires:\n",
        "  - __init__ : \n",
        "  - **visible_cache**: fonction d'estimation de la variable $v$ sachant $h$\n",
        "  - **cache_visible** : fonction d'estimation de la variable $h$ sachant $v$\n",
        "  - **E_theta** (énergie): pour le calcul de la l'énergie associée à $v$\n",
        "  - **Loss** la fonction perte qui permet d'évaluer la difféence entre les énergie des données intiales et des données estimées por le modèle\n",
        "  - **plot_v** pour l'affichage des images,\n",
        "  - la fonction **train** à l'intérieur de laquelle:\n",
        "    - chargement des données du dataset MNIST\n",
        "    - instanciation d'un objet de la classe SGD (Descente de gradient Stochastique)\n",
        "    - calcul de la loss et de la descente de gradient\n",
        "    - estimation à partir des paramètres mis à jour, et \n",
        "    - calcul de la RMSE\n"
      ],
      "metadata": {
        "id": "0FFehKAzhZ73"
      }
    },
    {
      "cell_type": "code",
      "execution_count": null,
      "metadata": {
        "id": "wdKMEPOndDyB"
      },
      "outputs": [],
      "source": [
        "from keras.datasets import mnist\n",
        "import torch\n",
        "import numpy as np\n",
        "import torch.nn.functional as F\n",
        "import torch.optim as optim\n",
        "from torch.autograd import Variable\n",
        "from torchvision.utils import make_grid , save_image\n",
        "%matplotlib inline\n",
        "import matplotlib.pyplot as plt\n",
        "\n",
        "#from tqdm import tqdm"
      ]
    },
    {
      "cell_type": "code",
      "source": [
        "### Initialisation de la class\n",
        "\n",
        "class RBM:\n",
        "\n",
        "    def __init__ (self,v_dim,h_dim):\n",
        "\n",
        "        #self.target_samples=target_samples\n",
        "        self.v_dim=v_dim #target_samples.shape[-1] dim ()\n",
        "        self.h_dim=h_dim ## dim (1,10)\n",
        "\n",
        "        self.w=torch.randn(self.h_dim,self.v_dim)*0.01\n",
        "        self.w.requires_grad=True\n",
        "\n",
        "        self.a=torch.zeros(v_dim)#.reshape(-1,1) ()\n",
        "        self.a.requires_grad=True\n",
        "\n",
        "        self.b=torch.zeros(h_dim)#.reshape(-1,1)\n",
        "        self.b.requires_grad=True\n",
        "        #self.k=k\n",
        "\n",
        "    def visible_cache (self, h):\n",
        "\n",
        "        #pv_h=self.a + h.mm(self.w)#.reshape(self.h_dim,1)\n",
        "        #m= torch.nn.Sigmoid()\n",
        "        value1=torch.sigmoid(F.linear(h,self.w.T,self.a))\n",
        "        return value1\n",
        "\n",
        "    def cache_visible (self,v):\n",
        "\n",
        "        #ph_v=self.b.T + v.mm((self.w).T)\n",
        "        #m= torch.nn.Sigmoid()\n",
        "        value2=torch.sigmoid(F.linear(v,self.w,self.b))\n",
        "        return value2\n",
        "\n",
        "    def E_theta (self,v):\n",
        "        ## Fonction Energie theta \n",
        "        \n",
        "        return (-1)*((v@self.a).add(torch.sum (torch.nn.functional.softplus(F.linear(v,self.w,self.b)), dim=-1)))#torch.log(1+ torch.exp(F.linear(v,self.w,self.b))),dim=-1)))\n",
        "\n",
        "\n",
        "    def loss(self,v,x_):\n",
        "\n",
        "        pt=torch.sum (self.E_theta(v),dim=-1)\n",
        "        dt= torch.sum (self.E_theta(x_),dim=-1)\n",
        "        return  pt - (v.shape[0] / x_.shape[0])*dt\n",
        "\n",
        "    def sample(self,nb, n_iter):\n",
        "        ## init v° \n",
        "        v_=torch.randn((nb,self.v_dim))#.float()#.reshape((1,-1))\n",
        "\n",
        "        for i in range(n_iter):\n",
        "          h_=torch.bernoulli(self.cache_visible(v_))\n",
        "          v_=torch.bernoulli(self.visible_cache(h_))\n",
        "          return v_\n",
        "\n",
        "    def plot_v(self,v,fig):\n",
        "      #ig.add_subplot(1,5,j)\n",
        "      v = torch.tensor(v).clone().detach().numpy()#.reshape(v.shape[0],28*28)#np.array(v, dtype='float')\n",
        "      v[v<=0.5]=0\n",
        "      v[v>0.5]=1\n",
        "      v=np.reshape(v, (28, 28))# * 255)#.astype(np.uint8)\n",
        "      plt.imshow(v, cmap='gray')\n",
        "    \n",
        "\n",
        "    def train(self,target_samples,epochs,batch_size,lr,n_iter):#,train_op):\n",
        "        perte=torch.nn.MSELoss()\n",
        "        dataset=torch.utils.data.TensorDataset(target_samples)\n",
        "\n",
        "        #train_op = optim.SGD([self.a,self.b,self.w],lr=lr)\n",
        "        train_op = optim.Adam([self.a,self.b,self.w],lr=lr)\n",
        "        mse_loss=[]\n",
        "        result_loss=[]\n",
        "\n",
        "        for epoch in range(epochs):\n",
        "          grad_loss = []\n",
        "          #mse_result=[]\n",
        "          dataloader=torch.utils.data.DataLoader(dataset,batch_size,shuffle=True)\n",
        "\n",
        "          for data in dataloader:\n",
        "\n",
        "            v=data[0]\n",
        "            \n",
        "            x_ = self.sample(batch_size,n_iter)#(v.shape[0],n_iter)\n",
        "\n",
        "            l = self.loss(v,x_)\n",
        "            #l.requires_grad=True\n",
        "            grad_loss.append(l.data)\n",
        "            train_op.zero_grad()\n",
        "            l.backward()\n",
        "            train_op.step()\n",
        "          loss_mean=np.mean(grad_loss)\n",
        "          result=self.visible_cache(self.cache_visible(target_samples))\n",
        "          ms=torch.square(perte(target_samples,result).clone().detach())\n",
        "          mse_loss.append(ms)\n",
        "          #print(\" RMSE {} for epoch: {}\".format(ms,epoch ))\n",
        "        ma_mse = np.mean(mse_loss)\n",
        "        result_loss.append(loss_mean)\n",
        "        return np.mean(result_loss)\n",
        "\n",
        "    "
      ],
      "metadata": {
        "id": "Cy7R-z2cdNQc"
      },
      "execution_count": null,
      "outputs": []
    },
    {
      "cell_type": "code",
      "source": [
        "(X_train, y_train), (X_test, y_test)=mnist.load_data()\n",
        "extracted=X_train[y_train==8][:1000]\n",
        "target_samples=torch.tensor(extracted>0.5).reshape(extracted.shape[0], 28*28).float()\n",
        "\n",
        "print(\"Les dimensions de nos données MNIST sont: \",target_samples.shape,\"\\n\")"
      ],
      "metadata": {
        "colab": {
          "base_uri": "https://localhost:8080/"
        },
        "id": "d7W52Epd0rjp",
        "outputId": "3294b6f0-67a4-4501-db2d-f0dff8cd88d1"
      },
      "execution_count": null,
      "outputs": [
        {
          "output_type": "stream",
          "name": "stdout",
          "text": [
            "Les dimensions de nos données MNIST sont:  torch.Size([1000, 784]) \n",
            "\n"
          ]
        }
      ]
    },
    {
      "cell_type": "code",
      "source": [
        "################## Test des dimensions visible_cache et cache_visible du modèle\n",
        "\n",
        "batch= 64\n",
        "nb_samples=batch \n",
        "epochs=15\n",
        "lr=0.01     # learning rate\n",
        "n_iter=100    # nombre d'itérations estimateur de Gibbs\n",
        "h_dim=10\n",
        "\n",
        "\n",
        "# Initialisation d'un vecteur caché h\n",
        "\n",
        "def init_h(h_dim):\n",
        "  h= torch.tensor(np.random.choice((0,1),(1000,h_dim)))\n",
        "  h=h.float()\n",
        "  return h\n",
        "\n",
        "\n",
        "# Initialisation d'un objet de la classe RBM\n",
        "rbm = RBM(target_samples.shape[1],h_dim)\n",
        "\n",
        "h= init_h(h_dim)\n",
        "print(\"Les dimensions de la couche cachée h sont : \",h.shape,\"\\n\")\n",
        "print(\"Les dimensions de visible_cache sont : \",rbm.visible_cache(h).shape,\"\\n\")\n",
        "\n",
        "v=target_samples\n",
        "print(\"Les dimensions de la couche visible v sont : \",v.shape,\"\\n\")\n",
        "print(\"Les dimensions de cache_visible sont : \",rbm.cache_visible(v).shape,\"\\n\")\n"
      ],
      "metadata": {
        "colab": {
          "base_uri": "https://localhost:8080/"
        },
        "id": "nqyYBu02gYHf",
        "outputId": "9d91b5ae-d52a-420e-d2f2-17595699aa47"
      },
      "execution_count": null,
      "outputs": [
        {
          "output_type": "stream",
          "name": "stdout",
          "text": [
            "Les dimensions de la couche cachée h sont :  torch.Size([1000, 10]) \n",
            "\n",
            "Les dimensions de visible_cache sont :  torch.Size([1000, 784]) \n",
            "\n",
            "Les dimensions de la couche visible v sont :  torch.Size([1000, 784]) \n",
            "\n",
            "Les dimensions de cache_visible sont :  torch.Size([1000, 10]) \n",
            "\n"
          ]
        }
      ]
    },
    {
      "cell_type": "markdown",
      "source": [
        "## Faisons varier la variable h_dim pour en évaluer l'impact sur l'entrainement de notre modèle"
      ],
      "metadata": {
        "id": "mOFsZOengRsz"
      }
    },
    {
      "cell_type": "code",
      "source": [
        "(X_train, y_train), (X_test, y_test)=mnist.load_data()\n",
        "extracted=X_train[y_train==3]#[:1000]\n",
        "target_samples=torch.tensor(extracted>0.5).reshape(extracted.shape[0], 28*28).float()\n",
        "\n",
        "\n",
        "batch_size= 64\n",
        "epochs=15\n",
        "lr=0.01 # learning rate\n",
        "n_iter=100 ## nombre d'itérations estimateur de Gibbs\n",
        "\n",
        "\n",
        "\n",
        "def estim(h_dim,rbm,batch_size,epochs,lr,n_iter):\n",
        "  ma_mse = rbm.train(target_samples,epochs,batch_size,lr,n_iter)\n",
        "  return ma_mse\n",
        "\n",
        "\n",
        "liste_h=[1,10,20,30,100,200,300,500,784]\n",
        "\n",
        "#rbm.train(target_samples,epochs,batch_size,lr,n_iter)\n",
        "\n",
        "\n",
        "def test_hdim(liste_h,batch_size,epochs,lr,n_iter):\n",
        "\n",
        "  result=[]\n",
        "\n",
        "  image=target_samples[0]\n",
        "  fig=plt.figure(figsize=(30,10))\n",
        "\n",
        "  for i,hdim in enumerate(liste_h) :\n",
        "\n",
        "    ### Initialisation d'un objet de la classe RBM\n",
        "    rbm = RBM(target_samples.shape[1],h_dim)\n",
        "    if i==0 :\n",
        "      fig.add_subplot(1,len(liste_h)+1,1)\n",
        "      rbm.plot_v(image,fig)\n",
        "\n",
        "    ma_mse = estim(h_dim,rbm,batch_size,epochs,lr,n_iter)\n",
        "    result.append(ma_mse)\n",
        "\n",
        "    ### Test des performances du modèle\n",
        "\n",
        "    x_=rbm.visible_cache(rbm.cache_visible(image))\n",
        "    fig.add_subplot(1,len(liste_h)+1,i+2)\n",
        "    rbm.plot_v(x_,fig)\n",
        "  plt.show()\n",
        "  return result\n",
        "\n",
        "result=test_hdim(liste_h,batch_size,epochs,lr,n_iter)\n",
        "\n",
        "plt.plot(liste_h, result, c='b')\n",
        "plt.title(\"Plot de la moyenne de loss pour chaque paramètre \\n\")\n",
        "plt.show()"
      ],
      "metadata": {
        "colab": {
          "base_uri": "https://localhost:8080/",
          "height": 484
        },
        "id": "z35toFVjgYTr",
        "outputId": "7e215b26-b117-4dee-b73e-f3aaf8a5566b"
      },
      "execution_count": null,
      "outputs": [
        {
          "output_type": "stream",
          "name": "stderr",
          "text": [
            "/usr/local/lib/python3.7/dist-packages/ipykernel_launcher.py:58: UserWarning: To copy construct from a tensor, it is recommended to use sourceTensor.clone().detach() or sourceTensor.clone().detach().requires_grad_(True), rather than torch.tensor(sourceTensor).\n"
          ]
        },
        {
          "output_type": "display_data",
          "data": {
            "text/plain": [
              "<Figure size 2160x720 with 10 Axes>"
            ],
            "image/png": "[encoded data removed]"
          },
          "metadata": {
            "needs_background": "light"
          }
        },
        {
          "output_type": "display_data",
          "data": {
            "text/plain": [
              "<Figure size 432x288 with 1 Axes>"
            ],
            "image/png": "[encoded data removed]"
          },
          "metadata": {
            "needs_background": "light"
          }
        }
      ]
    },
    {
      "cell_type": "markdown",
      "source": [
        "### **Remarques** : \n",
        "\n",
        "#### On remarque que la rmse la plus faible correspond à la couche cachée ayant pour dilmension  100."
      ],
      "metadata": {
        "id": "tgLQn1mNSNgk"
      }
    },
    {
      "cell_type": "markdown",
      "source": [
        "## **Faisons varier la variable lr (learning rate) pour en évaluer l'impact sur l'entrainement de notre modèle**\n",
        "\n",
        "#### En Machine Learning, on appelle ce genre de facteur un Hyper-paramètre, parce qu’il n’est pas à proprement parler un paramètre de notre modèle, mais il a tout de même un impact sur la performance finale de notre modèle (tout comme les paramètres du modèle)."
      ],
      "metadata": {
        "id": "ONhULZPAgeCS"
      }
    },
    {
      "cell_type": "code",
      "source": [
        "liste_lr=[0.001, 0.005 ,0.01,0.05,0.1, 0.9, 1]\n",
        "\n",
        "batch_size= 64#100 #784 #nb_samples[1]\n",
        "epochs=15\n",
        "\n",
        "h_dim=200\n",
        "n_iter=100 ## nombre d'itérations estimateur de Gibbs\n",
        "\n",
        "\n",
        "def test_lr(liste_lr,h_dim,batch_size,epochs,n_iter):\n",
        "\n",
        "  result=[]\n",
        "\n",
        "  ### Initialisation d'un objet de la classe RBM\n",
        "  rbm = RBM(target_samples.shape[1],h_dim)\n",
        "  image=target_samples[0]\n",
        "  fig=plt.figure(figsize=(50,10))#plt.figure(figsize=(((5,5))))\n",
        "\n",
        "  fig.add_subplot(1,len(liste_lr)+1,1)\n",
        "  rbm.plot_v(image,fig)\n",
        "\n",
        "  for i, lr in enumerate(liste_lr) :\n",
        "\n",
        "    ma_mse = estim(h_dim,rbm,batch_size,epochs,lr,n_iter)\n",
        "    result.append(ma_mse)\n",
        "\n",
        "    ### Test des performances du modèle\n",
        "\n",
        "    x_=rbm.visible_cache(rbm.cache_visible(image))#.detach().numpy()\n",
        "    fig.add_subplot(1,len(liste_lr)+1,i+2)\n",
        "    rbm.plot_v(x_,fig)\n",
        "  plt.show()\n",
        "  return result\n",
        "\n",
        "result=test_lr(liste_lr,h_dim,batch_size,epochs,n_iter)\n",
        "\n",
        "plt.plot(liste_lr, result, c='b')\n",
        "plt.title(\"Plot de la moyenne de loss pour chaque paramètre \\n\")\n",
        "plt.show()"
      ],
      "metadata": {
        "id": "C6ms2J63lAEM",
        "colab": {
          "base_uri": "https://localhost:8080/",
          "height": 505
        },
        "outputId": "e450b3b4-cb8d-44c4-d3f3-228fc3db9bd4"
      },
      "execution_count": null,
      "outputs": [
        {
          "output_type": "stream",
          "name": "stderr",
          "text": [
            "/usr/local/lib/python3.7/dist-packages/ipykernel_launcher.py:58: UserWarning: To copy construct from a tensor, it is recommended to use sourceTensor.clone().detach() or sourceTensor.clone().detach().requires_grad_(True), rather than torch.tensor(sourceTensor).\n"
          ]
        },
        {
          "output_type": "display_data",
          "data": {
            "text/plain": [
              "<Figure size 3600x720 with 8 Axes>"
            ],
            "image/png": "[encoded data removed]"
          },
          "metadata": {
            "needs_background": "light"
          }
        },
        {
          "output_type": "display_data",
          "data": {
            "text/plain": [
              "<Figure size 432x288 with 1 Axes>"
            ],
            "image/png": "[encoded data removed]"
          },
          "metadata": {
            "needs_background": "light"
          }
        }
      ]
    },
    {
      "cell_type": "markdown",
      "source": [
        "### **Commentaires**: \n",
        "\n",
        "#### - Pour lr trop grand, on effectue de trop grands pas dans la descente de gradient. Cela a l’avantage de descendre rapidement vers le minimum de la fonction coût, mais il y a risque d'avoir moins de précision en loupant. le minimum local , et \n",
        "\n",
        "![](https://drive.google.com/uc?export=view&id=1T3B0aN_mmWLXxKzm06w4x13C914Ad4lO)\n",
        "\n",
        "#### - Mais pour lr trop faible, on risque de mettre un temps infini avant de converger vers le minimum de la fonction cout. C’est un peu comme choisir d’avancer millimètre par millimètre dans une montagne pour trouver le point le plus bas de la vallée. On obtient malgé tout, de meilleurs résultats pour des valeurs petites de learning rate (0.001 - 0.01) \n",
        "\n",
        "![](https://drive.google.com/uc?export=view&id=1werwfk-Gzf4r4AcjWuL7Nx30YRpeMNPu)\n",
        "\n",
        "#### Pour trouver le bon Learning Rate, il n’existe malheureusement pas de formule magique. On doit le plus soiuvent tâtonner et essayer plusieurs valeurs avant de trouver la bonne. C'est ce qu'on appelle l’Hyperparameter Tuning (le réglage des hyper-paramètres)\n",
        "\n",
        "#### Nous retiendrons cependant qu'un bon learning rate, dans notre étude correspond à lr = 0.001."
      ],
      "metadata": {
        "id": "HpQv9Fmn_Fj6"
      }
    },
    {
      "cell_type": "markdown",
      "source": [
        "## **Faisons varier la variable epochs pour en évaluer l'impact sur l'entrainement de notre modèle**\n",
        "\n",
        "#### La variable epochs joue un rôle important dans la modélisation de l'apprentissage automatique, car cette valeur est essentielle pour trouver le modèle qui représente l'échantillon avec moins d'erreur. "
      ],
      "metadata": {
        "id": "2g60ekYri4Dg"
      }
    },
    {
      "cell_type": "code",
      "source": [
        "liste_epochs=[1, 10, 15,30 ,50, 60]\n",
        "\n",
        "batch_size= 64#100 #784 #nb_samples[1]\n",
        "\n",
        "lr=0.01\n",
        "h_dim=200\n",
        "n_iter=100 ## nombre d'itérations estimateur de Gibbs\n",
        "\n",
        "\n",
        "def test_epochs(liste_epochs,h_dim,batch_size,lr,n_iter):\n",
        "\n",
        "  result=[]\n",
        "\n",
        "  ### Initialisation d'un objet de la classe RBM\n",
        "  rbm = RBM(target_samples.shape[1],h_dim)\n",
        "  image=target_samples[0]\n",
        "  fig=plt.figure(figsize=(30,10))#plt.figure(figsize=(((5,5))))\n",
        "\n",
        "  fig.add_subplot(1,len(liste_epochs)+1,1)\n",
        "  rbm.plot_v(image,fig)\n",
        "\n",
        "  for i, epochs_t in enumerate(liste_epochs) :\n",
        "\n",
        "    ma_mse = estim(h_dim,rbm,batch_size,epochs_t,lr,n_iter)\n",
        "    result.append(ma_mse)\n",
        "\n",
        "    ### Test des performances du modèle\n",
        "\n",
        "    x_=rbm.visible_cache(rbm.cache_visible(image))#.detach().numpy()\n",
        "    fig.add_subplot(1,len(liste_epochs)+1,i+2)\n",
        "    rbm.plot_v(x_,fig)\n",
        "  plt.show()\n",
        "  return result\n",
        "\n",
        "result=test_epochs(liste_epochs,h_dim,batch_size,lr,n_iter)\n",
        "\n",
        "plt.plot(liste_epochs, result, c='b')\n",
        "plt.title(\"Plot de la moyenne de loss pour chaque paramètre \\n\")\n",
        "plt.show()"
      ],
      "metadata": {
        "id": "6XBiRhZmHC84",
        "colab": {
          "base_uri": "https://localhost:8080/",
          "height": 537
        },
        "outputId": "e8918d5b-926b-428b-fad0-f6509453bae9"
      },
      "execution_count": null,
      "outputs": [
        {
          "output_type": "stream",
          "name": "stderr",
          "text": [
            "/usr/local/lib/python3.7/dist-packages/ipykernel_launcher.py:58: UserWarning: To copy construct from a tensor, it is recommended to use sourceTensor.clone().detach() or sourceTensor.clone().detach().requires_grad_(True), rather than torch.tensor(sourceTensor).\n"
          ]
        },
        {
          "output_type": "display_data",
          "data": {
            "text/plain": [
              "<Figure size 2160x720 with 7 Axes>"
            ],
            "image/png": "[encoded data removed]"
          },
          "metadata": {
            "needs_background": "light"
          }
        },
        {
          "output_type": "display_data",
          "data": {
            "text/plain": [
              "<Figure size 432x288 with 1 Axes>"
            ],
            "image/png": "[encoded data removed]"
          },
          "metadata": {
            "needs_background": "light"
          }
        }
      ]
    },
    {
      "cell_type": "markdown",
      "source": [
        "## **Commentaires** :\n",
        "\n",
        "#### Plus le nombre d' epochs est grand plus on obtient une bonne précision, mais bien sur plus c’est long."
      ],
      "metadata": {
        "id": "RD4cTw3sNzC2"
      }
    },
    {
      "cell_type": "markdown",
      "source": [
        "## Faisons varier la variable n_iter (nombres d'itérations de Gibbs)  pour en évaluer l'impact sur l'entrainement de notre modèle"
      ],
      "metadata": {
        "id": "ysRfba0Up_CE"
      }
    },
    {
      "cell_type": "code",
      "source": [
        "liste_niter=[1,10,30, 50 ,80,100,150]#, 200,500,1000]\n",
        "\n",
        "batch_size= 64\n",
        "epochs=15\n",
        "lr=0.01\n",
        "h_dim=200\n",
        "\n",
        "\n",
        "\n",
        "def test_niter(liste_niter,h_dim,batch_size,epochs,lr):\n",
        "\n",
        "  result=[]\n",
        "\n",
        "  ### Initialisation d'un objet de la classe RBM\n",
        "  rbm = RBM(target_samples.shape[1],h_dim)\n",
        "  image=target_samples[0]\n",
        "  fig=plt.figure(figsize=(50,10))\n",
        "\n",
        "  fig.add_subplot(1,len(liste_niter)+1,1)\n",
        "  rbm.plot_v(image,fig)\n",
        "\n",
        "  for i, n_iter in enumerate(liste_niter) :\n",
        "\n",
        "    ma_mse = estim(h_dim,rbm,batch_size,epochs,lr,n_iter)\n",
        "    result.append(ma_mse)\n",
        "\n",
        "    ### Test des performances du modèle\n",
        "\n",
        "    x_=rbm.visible_cache(rbm.cache_visible(image))\n",
        "    fig.add_subplot(1,len(liste_niter)+1,i+2)\n",
        "    rbm.plot_v(x_,fig)\n",
        "  plt.show()\n",
        "  return result\n",
        "\n",
        "result=test_niter(liste_niter,h_dim,batch_size,epochs,lr)\n",
        "\n",
        "plt.plot(liste_niter, result, c='b')\n",
        "plt.title(\"Plot de la moyenne de loss pour chaque paramètre \\n\")\n",
        "plt.show()"
      ],
      "metadata": {
        "colab": {
          "base_uri": "https://localhost:8080/",
          "height": 505
        },
        "id": "BwO_UQKup_dv",
        "outputId": "8dcbe45f-9fd3-43f5-ba40-9a9d1ad85fbc"
      },
      "execution_count": null,
      "outputs": [
        {
          "output_type": "stream",
          "name": "stderr",
          "text": [
            "/usr/local/lib/python3.7/dist-packages/ipykernel_launcher.py:58: UserWarning: To copy construct from a tensor, it is recommended to use sourceTensor.clone().detach() or sourceTensor.clone().detach().requires_grad_(True), rather than torch.tensor(sourceTensor).\n"
          ]
        },
        {
          "output_type": "display_data",
          "data": {
            "text/plain": [
              "<Figure size 3600x720 with 8 Axes>"
            ],
            "image/png": "[encoded data removed]"
          },
          "metadata": {
            "needs_background": "light"
          }
        },
        {
          "output_type": "display_data",
          "data": {
            "text/plain": [
              "<Figure size 432x288 with 1 Axes>"
            ],
            "image/png": "[encoded data removed]"
          },
          "metadata": {
            "needs_background": "light"
          }
        }
      ]
    },
    {
      "cell_type": "markdown",
      "source": [
        "## **Faisons varier la variable batch_size (taille de batch)  pour en évaluer l'impact sur l'entrainement de notre modèle**\n",
        "\n",
        "#### La taille des batch size est l'un des hyperparamètres les plus importants dans les systèmes modernes d'apprentissage en profondeur. On utilise souvent utiliser une taille de batch élevée pour former leur modèle car cela permet des accélérations de calcul, grâce au parallélisme des GPU. \n"
      ],
      "metadata": {
        "id": "ARqPeflmru3b"
      }
    },
    {
      "cell_type": "code",
      "source": [
        "liste_batch=[10, 50 ,80,100,150, 300,784,1000, 2000,2500]\n",
        "\n",
        "#batch_size= 100 #784 #nb_samples[1]\n",
        "epochs=15\n",
        "lr=0.01\n",
        "h_dim=10\n",
        "n_iter=100 ## nombre d'itérations estimateur de Gibbs\n",
        "\n",
        "\n",
        "def test_batch(liste_batch,h_dim,epochs,lr,n_iter):\n",
        "\n",
        "  result=[]\n",
        "\n",
        "  ### Initialisation d'un objet de la classe RBM\n",
        "  rbm = RBM(target_samples.shape[1],h_dim)\n",
        "  image=target_samples[100]\n",
        "  fig=plt.figure(figsize=(50,10))#plt.figure(figsize=(((5,5))))\n",
        "\n",
        "  fig.add_subplot(1,len(liste_batch)+1,1)\n",
        "  rbm.plot_v(image,fig)\n",
        "\n",
        "  for i, batch_size in enumerate(liste_batch) :\n",
        "\n",
        "    ma_mse = estim(h_dim,rbm,batch_size,epochs,lr,n_iter)\n",
        "    result.append(ma_mse)\n",
        "\n",
        "    ### Test des performances du modèle\n",
        "\n",
        "    x_=rbm.visible_cache(rbm.cache_visible(image))#.detach().numpy()\n",
        "    fig.add_subplot(1,len(liste_batch)+1,i+2)\n",
        "    rbm.plot_v(x_,fig)\n",
        "  plt.show()\n",
        "  return result\n",
        "\n",
        "result=test_batch(liste_batch,h_dim,epochs,lr, n_iter)\n",
        "\n",
        "plt.plot(liste_batch, result, c='b')\n",
        "plt.title(\"Plot de la moyenne de loss pour chaque paramètre \\n\")\n",
        "plt.show()"
      ],
      "metadata": {
        "colab": {
          "base_uri": "https://localhost:8080/",
          "height": 462
        },
        "id": "vXdXr1L2rvEP",
        "outputId": "712a20af-240d-411d-ec0f-7c7d08e6c271"
      },
      "execution_count": null,
      "outputs": [
        {
          "output_type": "stream",
          "name": "stderr",
          "text": [
            "/usr/local/lib/python3.7/dist-packages/ipykernel_launcher.py:58: UserWarning: To copy construct from a tensor, it is recommended to use sourceTensor.clone().detach() or sourceTensor.clone().detach().requires_grad_(True), rather than torch.tensor(sourceTensor).\n"
          ]
        },
        {
          "output_type": "display_data",
          "data": {
            "text/plain": [
              "<Figure size 3600x720 with 11 Axes>"
            ],
            "image/png": "[encoded data removed]"
          },
          "metadata": {
            "needs_background": "light"
          }
        },
        {
          "output_type": "display_data",
          "data": {
            "text/plain": [
              "<Figure size 432x288 with 1 Axes>"
            ],
            "image/png": "[encoded data removed]"
          },
          "metadata": {
            "needs_background": "light"
          }
        }
      ]
    },
    {
      "cell_type": "markdown",
      "source": [
        "### **Commentaires** :\n",
        "\n",
        "####- Une trop grande taille de batch, on le sait conduit à une mauvaise généralisation. Pour le type de fonctions (convexes) que nous essayons d'optimiser, il existe un bras de fer inhérent entre les avantages des tailles de batch plus petites et plus grandes.\n",
        "\n",
        "#### - L'utilisation d'une taille de batch égale à celle de l'ensemble de données complet garantit la convergence vers l'optimum global de la fonction objectif (comme le montre les images ci-dessus pour batch_size=1000. \n",
        "\n",
        "####- Cela se fait, cependant au prix d'une convergence empirique plus lente vers cet optimum et il a été démontré empiriquement que l'utilisation de batch de plus petite taille permet une convergence plus rapide vers de « bonnes » solutions (cela se justifie par le fait que des tailles de batch plus petites permettent au modèle de \"commencer à apprendre avant d'avoir à voir toutes les données\").\n",
        "\n",
        "####- L'inconvénient d'utiliser une taille de batch plus petite est qu'il n'est pas garanti que le modèle converge vers les optima globaux. Il rebondira autour des optima globaux, restant en dehors d'une ϵ-ball des optima où ϵ dépend du rapport entre la taille du lot et la taille de l'ensemble de données. \n",
        "\n",
        "#### Sans aucune contrainte de calcul, il est donc souvent conseillé de commencer avec une petite taille de lot, en récoltant les avantages d'une dynamique de formation plus rapide, et d'augmenter régulièrement la taille du batch grâce à l'entrainement, en récoltant également les avantages d'une convergence garantie.\n",
        "\n",
        "### **Remarques**\n",
        "#### Certains travaux dans la littérature sur l'optimisation ont montré que l'augmentation du taux d'apprentissage peut compenser des tailles de lots plus importantes.\n",
        "\n",
        "#### Ici nous prendrons batch_size = 100"
      ],
      "metadata": {
        "id": "6nz-88diDRk4"
      }
    },
    {
      "cell_type": "markdown",
      "source": [
        "### **Test modèle final**\n"
      ],
      "metadata": {
        "id": "RvUKcd5N7MgU"
      }
    },
    {
      "cell_type": "code",
      "source": [
        "(X_train, y_train), (X_test, y_test)=mnist.load_data()\n",
        "extracted=X_train[y_train==3][:1000]\n",
        "target_samples=torch.tensor(extracted>0.5).reshape(extracted.shape[0], 28*28).float()\n",
        "\n",
        "## Les paramètres de test\n",
        "\n",
        "batch_size= 100 \n",
        "epochs=20\n",
        "h_dim=500\n",
        "lr=0.001 \n",
        "n_iter=50 \n",
        "\n",
        "def estim(h_dim,rbm,batch_size,epochs,lr,n_iter):\n",
        "  ma_mse = rbm.train(target_samples,epochs,batch_size,lr,n_iter)\n",
        "  return ma_mse\n",
        "\n",
        "image=target_samples[0]\n",
        "fig=plt.figure(figsize=(10,5))#plt.figure(figsize=(((5,5))))\n",
        "fig.add_subplot(1,2,1)\n",
        "rbm.plot_v(image,fig)\n",
        "\n",
        "\n",
        "### Initialisation d'un objet de la classe RBM\n",
        "rbm = RBM(target_samples.shape[1],h_dim)\n",
        "\n",
        "## Entrainement \n",
        "ma_mse = estim(h_dim,rbm,batch_size,epochs,lr,n_iter)\n",
        "\n",
        "## Test\n",
        "x_=rbm.visible_cache(rbm.cache_visible(image))#.detach().numpy()\n",
        "fig.add_subplot(1,2,2)\n",
        "rbm.plot_v(x_,fig)\n",
        "plt.title(\"Image initiale - Images générée \\n\")\n",
        "plt.show()\n",
        "\n"
      ],
      "metadata": {
        "colab": {
          "base_uri": "https://localhost:8080/",
          "height": 370
        },
        "id": "TlOnHLaQXHw7",
        "outputId": "7633f9cc-a7a0-4f07-fab5-258adb19d375"
      },
      "execution_count": null,
      "outputs": [
        {
          "output_type": "stream",
          "name": "stderr",
          "text": [
            "/usr/local/lib/python3.7/dist-packages/ipykernel_launcher.py:58: UserWarning: To copy construct from a tensor, it is recommended to use sourceTensor.clone().detach() or sourceTensor.clone().detach().requires_grad_(True), rather than torch.tensor(sourceTensor).\n"
          ]
        },
        {
          "output_type": "display_data",
          "data": {
            "text/plain": [
              "<Figure size 720x360 with 2 Axes>"
            ],
            "image/png": "[encoded data removed]"
          },
          "metadata": {
            "needs_background": "light"
          }
        }
      ]
    }
  ]
}